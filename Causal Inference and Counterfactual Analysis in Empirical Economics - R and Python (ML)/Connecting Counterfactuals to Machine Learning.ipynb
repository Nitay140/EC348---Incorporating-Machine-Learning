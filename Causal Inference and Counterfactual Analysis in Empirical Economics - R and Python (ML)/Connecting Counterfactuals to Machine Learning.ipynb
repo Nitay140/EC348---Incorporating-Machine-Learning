{
 "cells": [
  {
   "cell_type": "markdown",
   "id": "5adbd29c-dbf2-4c16-a8c6-a93bca770161",
   "metadata": {},
   "source": [
    "### Connecting Counterfactuals to Machine Learning"
   ]
  },
  {
   "cell_type": "markdown",
   "id": "4050bf1d-bced-4d5c-a77b-c0fa386fdeec",
   "metadata": {},
   "source": [
    "🎯 Learning Goals:\n",
    "\n",
    "Link causal inference to machine learning prediction.\n",
    "\n",
    "See how a model can predict outcomes accurately but still give biased causal effects.\n",
    "\n",
    "Practice regression modeling and model interpretation in Python."
   ]
  },
  {
   "cell_type": "markdown",
   "id": "8bc37609-5a43-4962-9814-49d64d7925ba",
   "metadata": {},
   "source": [
    "#### Imports"
   ]
  },
  {
   "cell_type": "code",
   "execution_count": 58,
   "id": "d5f7fd79-2d5d-43e4-9cdc-d4ddd7a843f9",
   "metadata": {},
   "outputs": [],
   "source": [
    "import numpy as np\n",
    "import pandas as pd\n",
    "import matplotlib.pyplot as plt\n",
    "import seaborn as sns\n",
    "import os\n",
    "import random\n",
    "from sklearn.model_selection import train_test_split\n",
    "from sklearn.linear_model import LinearRegression\n",
    "from sklearn.metrics import mean_squared_error\n",
    "from sklearn.ensemble import RandomForestRegressor"
   ]
  },
  {
   "cell_type": "code",
   "execution_count": 9,
   "id": "1e304a4a-6bc7-470d-ba73-aa4ec491f8a6",
   "metadata": {},
   "outputs": [],
   "source": [
    "# Creating a random seed and other paramters\n",
    "random.seed(42)\n",
    "\n",
    "n = 1000\n",
    "\n",
    "# Simulate ability\n",
    "ability = np.random.normal(loc=0, scale=1, size=n)"
   ]
  },
  {
   "cell_type": "code",
   "execution_count": 23,
   "id": "14ba752e-e310-4156-8953-181ff7bf6538",
   "metadata": {},
   "outputs": [],
   "source": [
    "# Simulate treatment: higher ability -> higher chance of treatment\n",
    "p_treat = 1 / (1 + np.exp(-(-0.5 + 1.2 * ability)))\n",
    "treat = np.random.binomial(1, p_treat, size=n)\n",
    "income = 3 + 2 * treat + 1.5 * ability + np.random.normal(0, 1, size=n)"
   ]
  },
  {
   "cell_type": "code",
   "execution_count": 26,
   "id": "f3293710-4f4d-437a-b9b7-4448130083be",
   "metadata": {},
   "outputs": [],
   "source": [
    "#Creating a dataframe\n",
    "df = pd.DataFrame({\n",
    "    'ability': ability,\n",
    "    'treat': treat,\n",
    "    'income': income\n",
    "})"
   ]
  },
  {
   "cell_type": "code",
   "execution_count": 28,
   "id": "08745a19-bd1a-4f29-bfac-c3c0c6e05eed",
   "metadata": {},
   "outputs": [
    {
     "data": {
      "text/html": [
       "<div>\n",
       "<style scoped>\n",
       "    .dataframe tbody tr th:only-of-type {\n",
       "        vertical-align: middle;\n",
       "    }\n",
       "\n",
       "    .dataframe tbody tr th {\n",
       "        vertical-align: top;\n",
       "    }\n",
       "\n",
       "    .dataframe thead th {\n",
       "        text-align: right;\n",
       "    }\n",
       "</style>\n",
       "<table border=\"1\" class=\"dataframe\">\n",
       "  <thead>\n",
       "    <tr style=\"text-align: right;\">\n",
       "      <th></th>\n",
       "      <th>ability</th>\n",
       "      <th>treat</th>\n",
       "      <th>income</th>\n",
       "    </tr>\n",
       "  </thead>\n",
       "  <tbody>\n",
       "    <tr>\n",
       "      <th>0</th>\n",
       "      <td>0.285894</td>\n",
       "      <td>0</td>\n",
       "      <td>4.005474</td>\n",
       "    </tr>\n",
       "    <tr>\n",
       "      <th>1</th>\n",
       "      <td>0.156724</td>\n",
       "      <td>0</td>\n",
       "      <td>3.655059</td>\n",
       "    </tr>\n",
       "    <tr>\n",
       "      <th>2</th>\n",
       "      <td>0.540182</td>\n",
       "      <td>0</td>\n",
       "      <td>4.343728</td>\n",
       "    </tr>\n",
       "    <tr>\n",
       "      <th>3</th>\n",
       "      <td>0.125996</td>\n",
       "      <td>0</td>\n",
       "      <td>3.258086</td>\n",
       "    </tr>\n",
       "    <tr>\n",
       "      <th>4</th>\n",
       "      <td>0.807063</td>\n",
       "      <td>0</td>\n",
       "      <td>4.014030</td>\n",
       "    </tr>\n",
       "  </tbody>\n",
       "</table>\n",
       "</div>"
      ],
      "text/plain": [
       "    ability  treat    income\n",
       "0  0.285894      0  4.005474\n",
       "1  0.156724      0  3.655059\n",
       "2  0.540182      0  4.343728\n",
       "3  0.125996      0  3.258086\n",
       "4  0.807063      0  4.014030"
      ]
     },
     "execution_count": 28,
     "metadata": {},
     "output_type": "execute_result"
    }
   ],
   "source": [
    "df.head()"
   ]
  },
  {
   "cell_type": "code",
   "execution_count": 29,
   "id": "e5135ea8-be6d-43e9-8a82-024a3e7bf7cc",
   "metadata": {},
   "outputs": [
    {
     "data": {
      "text/html": [
       "<div>\n",
       "<style scoped>\n",
       "    .dataframe tbody tr th:only-of-type {\n",
       "        vertical-align: middle;\n",
       "    }\n",
       "\n",
       "    .dataframe tbody tr th {\n",
       "        vertical-align: top;\n",
       "    }\n",
       "\n",
       "    .dataframe thead th {\n",
       "        text-align: right;\n",
       "    }\n",
       "</style>\n",
       "<table border=\"1\" class=\"dataframe\">\n",
       "  <thead>\n",
       "    <tr style=\"text-align: right;\">\n",
       "      <th></th>\n",
       "      <th>ability</th>\n",
       "      <th>treat</th>\n",
       "      <th>income</th>\n",
       "    </tr>\n",
       "  </thead>\n",
       "  <tbody>\n",
       "    <tr>\n",
       "      <th>count</th>\n",
       "      <td>1000.000000</td>\n",
       "      <td>1000.000000</td>\n",
       "      <td>1000.000000</td>\n",
       "    </tr>\n",
       "    <tr>\n",
       "      <th>mean</th>\n",
       "      <td>-0.036493</td>\n",
       "      <td>0.400000</td>\n",
       "      <td>3.743974</td>\n",
       "    </tr>\n",
       "    <tr>\n",
       "      <th>std</th>\n",
       "      <td>1.007833</td>\n",
       "      <td>0.490143</td>\n",
       "      <td>2.442641</td>\n",
       "    </tr>\n",
       "    <tr>\n",
       "      <th>min</th>\n",
       "      <td>-3.649950</td>\n",
       "      <td>0.000000</td>\n",
       "      <td>-3.267986</td>\n",
       "    </tr>\n",
       "    <tr>\n",
       "      <th>25%</th>\n",
       "      <td>-0.727182</td>\n",
       "      <td>0.000000</td>\n",
       "      <td>1.969228</td>\n",
       "    </tr>\n",
       "    <tr>\n",
       "      <th>50%</th>\n",
       "      <td>-0.033953</td>\n",
       "      <td>0.000000</td>\n",
       "      <td>3.551329</td>\n",
       "    </tr>\n",
       "    <tr>\n",
       "      <th>75%</th>\n",
       "      <td>0.656479</td>\n",
       "      <td>1.000000</td>\n",
       "      <td>5.463326</td>\n",
       "    </tr>\n",
       "    <tr>\n",
       "      <th>max</th>\n",
       "      <td>2.950537</td>\n",
       "      <td>1.000000</td>\n",
       "      <td>10.848405</td>\n",
       "    </tr>\n",
       "  </tbody>\n",
       "</table>\n",
       "</div>"
      ],
      "text/plain": [
       "           ability        treat       income\n",
       "count  1000.000000  1000.000000  1000.000000\n",
       "mean     -0.036493     0.400000     3.743974\n",
       "std       1.007833     0.490143     2.442641\n",
       "min      -3.649950     0.000000    -3.267986\n",
       "25%      -0.727182     0.000000     1.969228\n",
       "50%      -0.033953     0.000000     3.551329\n",
       "75%       0.656479     1.000000     5.463326\n",
       "max       2.950537     1.000000    10.848405"
      ]
     },
     "execution_count": 29,
     "metadata": {},
     "output_type": "execute_result"
    }
   ],
   "source": [
    "df.describe()"
   ]
  },
  {
   "cell_type": "markdown",
   "id": "ad4425ea-a8ee-4d67-afa3-d2c57fef720e",
   "metadata": {},
   "source": [
    "#### Train Test Split"
   ]
  },
  {
   "cell_type": "code",
   "execution_count": 37,
   "id": "5dce951a-27a4-46d3-aadc-320e3c9622e0",
   "metadata": {},
   "outputs": [],
   "source": [
    "# Sorting out X and y\n",
    "X = df[['treat', 'ability']]\n",
    "y = df['income']"
   ]
  },
  {
   "cell_type": "code",
   "execution_count": 38,
   "id": "d9cc35d1-533e-4e0f-af25-c6b706cc71aa",
   "metadata": {},
   "outputs": [],
   "source": [
    "#Train - Test Split\n",
    "X_train, X_test, y_train, y_test = train_test_split(X, y, test_size=0.2, random_state=42)"
   ]
  },
  {
   "cell_type": "markdown",
   "id": "e012ccca-2520-4186-b7c0-2c94ec11a1eb",
   "metadata": {},
   "source": [
    "#### Naive Model"
   ]
  },
  {
   "cell_type": "code",
   "execution_count": 47,
   "id": "8623845f-abab-41f5-a0a7-aaae06a3cc2f",
   "metadata": {},
   "outputs": [],
   "source": [
    "# Only includes treat → coefficient is biased because it doesn’t control for ability.\n",
    "model_naive = LinearRegression().fit(X_train[['treat']], y_train)\n",
    "y_pred_naive = model_naive.predict(X_test[['treat']])\n",
    "coef_naive = model_naive.coef_[0]\n",
    "mse_naive = mean_squared_error(y_test, y_pred_naive)"
   ]
  },
  {
   "cell_type": "code",
   "execution_count": 52,
   "id": "d761df07-356e-4110-83aa-e3ae5ee8d42d",
   "metadata": {},
   "outputs": [],
   "source": [
    "# Including ability isolates the true causal effect of treat.\n",
    "model_controlled = LinearRegression().fit(X_train, y_train)\n",
    "y_pred_controlled = model_controlled.predict(X_test)\n",
    "coef_controlled = model_controlled.coef_[0]  # coefficient for treat\n",
    "mse_controlled = mean_squared_error(y_test, y_pred_controlled)"
   ]
  },
  {
   "cell_type": "markdown",
   "id": "e106f91e-d3b2-4eb3-8c6a-b86b4ef59bad",
   "metadata": {},
   "source": [
    "#### Results"
   ]
  },
  {
   "cell_type": "code",
   "execution_count": 53,
   "id": "20958586-8775-40be-82e8-727af6da6d12",
   "metadata": {},
   "outputs": [
    {
     "name": "stdout",
     "output_type": "stream",
     "text": [
      "Naive treat coefficient: 3.576, MSE: 2.609\n",
      "Controlled treat coefficient: 1.986, MSE: 0.944\n"
     ]
    }
   ],
   "source": [
    "print(f\"Naive treat coefficient: {coef_naive:.3f}, MSE: {mse_naive:.3f}\")\n",
    "print(f\"Controlled treat coefficient: {coef_controlled:.3f}, MSE: {mse_controlled:.3f}\")"
   ]
  },
  {
   "cell_type": "code",
   "execution_count": 54,
   "id": "c611f771-9fe7-4269-aa7b-e77fda9517c2",
   "metadata": {},
   "outputs": [
    {
     "name": "stdout",
     "output_type": "stream",
     "text": [
      "Prediction MSE comparison:\n",
      "Naive MSE: 2.609\n",
      "Controlled MSE: 0.944\n",
      "Causal effect bias:\n",
      "Naive bias: 1.576\n",
      "Controlled bias: -0.014\n"
     ]
    }
   ],
   "source": [
    "print(\"Prediction MSE comparison:\")\n",
    "print(f\"Naive MSE: {mse_naive:.3f}\")\n",
    "print(f\"Controlled MSE: {mse_controlled:.3f}\")\n",
    "\n",
    "print(\"Causal effect bias:\")\n",
    "print(f\"Naive bias: {coef_naive - 2:.3f}\")\n",
    "print(f\"Controlled bias: {coef_controlled - 2:.3f}\")"
   ]
  },
  {
   "cell_type": "markdown",
   "id": "b390b768-6755-4139-86cb-1e841b302e6d",
   "metadata": {},
   "source": [
    "#### Plotting"
   ]
  },
  {
   "cell_type": "code",
   "execution_count": 56,
   "id": "52f22e24-1a5c-4103-9f6d-f357fc673622",
   "metadata": {},
   "outputs": [
    {
     "data": {
      "image/png": "[encoded data removed]",
      "text/plain": [
       "<Figure size 640x480 with 1 Axes>"
      ]
     },
     "metadata": {},
     "output_type": "display_data"
    }
   ],
   "source": [
    "plt.scatter(y_test, y_pred_naive, alpha=0.5, label='Naive')\n",
    "plt.scatter(y_test, y_pred_controlled, alpha=0.5, label='Controlled')\n",
    "plt.plot([y_test.min(), y_test.max()], [y_test.min(), y_test.max()], 'k--')\n",
    "plt.xlabel('True income')\n",
    "plt.ylabel('Predicted income')\n",
    "plt.legend()\n",
    "plt.title('Predicted vs True Income')\n",
    "plt.show()"
   ]
  },
  {
   "cell_type": "markdown",
   "id": "32e58133-8951-4424-8bd2-8f9c77f5dfb5",
   "metadata": {},
   "source": [
    "#### Building a Random Forest Predictor of Naive Model"
   ]
  },
  {
   "cell_type": "code",
   "execution_count": 70,
   "id": "bf87664f-6d82-41f8-845e-0c46e7224630",
   "metadata": {},
   "outputs": [],
   "source": [
    "rf_naive = RandomForestRegressor(n_estimators=100, random_state=42)\n",
    "rf_naive.fit(X_train[['treat']], y_train)\n",
    "\n",
    "y_pred_naive = rf_naive.predict(X_test[['treat']])\n",
    "mse_naive = mean_squared_error(y_test, y_pred_naive)"
   ]
  },
  {
   "cell_type": "code",
   "execution_count": 71,
   "id": "cc3fada3-efc9-4efe-b31f-7765a13b2be5",
   "metadata": {},
   "outputs": [
    {
     "name": "stdout",
     "output_type": "stream",
     "text": [
      "Naive Random Forest MSE: 2.611\n"
     ]
    }
   ],
   "source": [
    "print(f\"Naive Random Forest MSE: {mse_naive:.3f}\")"
   ]
  },
  {
   "cell_type": "markdown",
   "id": "c3781c39-2059-4772-9093-95e21c24b8ed",
   "metadata": {},
   "source": [
    "Predicts income without controlling for ability, so treatment effect is biased if you try to interpret it causally."
   ]
  },
  {
   "cell_type": "code",
   "execution_count": 74,
   "id": "81f226de-e34c-45c6-899a-0ae608601235",
   "metadata": {},
   "outputs": [],
   "source": [
    "rf_controlled = RandomForestRegressor(n_estimators=100, random_state=42)\n",
    "rf_controlled.fit(X_train, y_train)\n",
    "\n",
    "y_pred_controlled = rf_controlled.predict(X_test)\n",
    "mse_controlled = mean_squared_error(y_test, y_pred_controlled)"
   ]
  },
  {
   "cell_type": "code",
   "execution_count": 75,
   "id": "a0f63914-a078-4adf-bda7-1798d97c8a96",
   "metadata": {},
   "outputs": [
    {
     "name": "stdout",
     "output_type": "stream",
     "text": [
      "Controlled Random Forest MSE: 1.379\n"
     ]
    }
   ],
   "source": [
    "print(f\"Controlled Random Forest MSE: {mse_controlled:.3f}\")"
   ]
  },
  {
   "cell_type": "markdown",
   "id": "393e0e92-9d9c-4d94-8edc-f5f1035dae76",
   "metadata": {},
   "source": [
    "#### Estimate treatment effect from ML models"
   ]
  },
  {
   "cell_type": "markdown",
   "id": "a530a41d-a034-41a9-a353-2412ff825281",
   "metadata": {},
   "source": [
    "1. ML models don’t directly give “coefficients” like linear regression.\n",
    "2. Two common ways to estimate treatment effect:"
   ]
  },
  {
   "cell_type": "code",
   "execution_count": 76,
   "id": "0a3c588a-66fc-4525-a3b2-405eabe99d74",
   "metadata": {},
   "outputs": [
    {
     "name": "stdout",
     "output_type": "stream",
     "text": [
      "Naive ML estimated effect: 3.565\n"
     ]
    }
   ],
   "source": [
    "# Naive: predicted difference if treated vs not treated\n",
    "X_test_naive_treated = X_test[['treat']].copy()\n",
    "X_test_naive_treated['treat'] = 1\n",
    "X_test_naive_control = X_test[['treat']].copy()\n",
    "X_test_naive_control['treat'] = 0\n",
    "\n",
    "effect_naive = np.mean(rf_naive.predict(X_test_naive_treated) - \n",
    "                       rf_naive.predict(X_test_naive_control))\n",
    "print(f\"Naive ML estimated effect: {effect_naive:.3f}\")"
   ]
  },
  {
   "cell_type": "code",
   "execution_count": 78,
   "id": "86c9a0ba-4b33-4c39-8c10-92fb2a23cf01",
   "metadata": {},
   "outputs": [
    {
     "name": "stdout",
     "output_type": "stream",
     "text": [
      "Controlled ML estimated effect: 2.121\n"
     ]
    }
   ],
   "source": [
    "X_test_controlled_treated = X_test.copy()\n",
    "X_test_controlled_treated['treat'] = 1\n",
    "X_test_controlled_control = X_test.copy()\n",
    "X_test_controlled_control['treat'] = 0\n",
    "\n",
    "effect_controlled = np.mean(rf_controlled.predict(X_test_controlled_treated) - \n",
    "                            rf_controlled.predict(X_test_controlled_control))\n",
    "print(f\"Controlled ML estimated effect: {effect_controlled:.3f}\")"
   ]
  }
 ],
 "metadata": {
  "kernelspec": {
   "display_name": "Python (myenv)",
   "language": "python",
   "name": "myenv"
  },
  "language_info": {
   "codemirror_mode": {
    "name": "ipython",
    "version": 3
   },
   "file_extension": ".py",
   "mimetype": "text/x-python",
   "name": "python",
   "nbconvert_exporter": "python",
   "pygments_lexer": "ipython3",
   "version": "3.9.23"
  }
 },
 "nbformat": 4,
 "nbformat_minor": 5
}
